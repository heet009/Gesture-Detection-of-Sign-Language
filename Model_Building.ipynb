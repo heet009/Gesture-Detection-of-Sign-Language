{
  "cells": [
    {
      "cell_type": "code",
      "execution_count": 2,
      "metadata": {
        "colab": {
          "base_uri": "https://localhost:8080/"
        },
        "id": "gxbHBsF-8Y_l",
        "outputId": "01c21d7c-d9c5-446d-bd7b-1ebd78a46e8f"
      },
      "outputs": [
        {
          "name": "stdout",
          "output_type": "stream",
          "text": [
            "\u001b[2K     \u001b[90m━━━━━━━━━━━━━━━━━━━━━━━━━━━━━━━━━━━━━━━━\u001b[0m \u001b[32m34.5/34.5 MB\u001b[0m \u001b[31m33.4 MB/s\u001b[0m eta \u001b[36m0:00:00\u001b[0m\n",
            "\u001b[?25h"
          ]
        }
      ],
      "source": [
        "%pip install -q mediapipe==0.10.8"
      ]
    },
    {
      "cell_type": "code",
      "execution_count": 1,
      "metadata": {
        "id": "OMjuVQiDYJKF"
      },
      "outputs": [],
      "source": [
        "%wget -q https://storage.googleapis.com/mediapipe-models/hand_landmarker/hand_landmarker/float16/1/hand_landmarker.task"
      ]
    },
    {
      "cell_type": "code",
      "execution_count": null,
      "metadata": {
        "colab": {
          "base_uri": "https://localhost:8080/"
        },
        "id": "c4FMbvKqAEG4",
        "outputId": "934b94ac-08b5-43b9-fe45-c4f73e75b418"
      },
      "outputs": [],
      "source": [
        "%pip install pickle5"
      ]
    },
    {
      "cell_type": "code",
      "execution_count": 3,
      "metadata": {
        "id": "_JVO3rvPD4RN"
      },
      "outputs": [],
      "source": [
        "import mediapipe as mp\n",
        "from mediapipe.tasks import python\n",
        "from mediapipe.tasks.python import vision\n",
        "import os\n",
        "import cv2\n",
        "import pickle\n",
        "\n",
        "base_options = python.BaseOptions(model_asset_path='hand_landmarker.task')\n",
        "options = vision.HandLandmarkerOptions(base_options=base_options,\n",
        "                                       num_hands=1)\n",
        "detector = vision.HandLandmarker.create_from_options(options)\n",
        "\n",
        "folder_path = '/content/train'\n",
        "file_list = os.listdir(folder_path)\n",
        "\n",
        "data = []\n",
        "labels = []\n",
        "\n",
        "for dir_ in os.listdir(folder_path):\n",
        "    for img_path in os.listdir(os.path.join(folder_path, dir_)):\n",
        "\n",
        "      data_aux = []\n",
        "\n",
        "      x_ = []\n",
        "      y_ = []\n",
        "\n",
        "      image_path = os.path.join(folder_path, dir_,img_path)\n",
        "      image = mp.Image.create_from_file(image_path)\n",
        "\n",
        "      detection_result = detector.detect(image)\n",
        "\n",
        "      if detection_result.hand_landmarks:\n",
        "            for hand_landmarks in detection_result.hand_landmarks:\n",
        "                for i in hand_landmarks:\n",
        "                  x = i.x\n",
        "                  y = i.y\n",
        "\n",
        "                  x_.append(x)\n",
        "                  y_.append(y)\n",
        "\n",
        "                for i in hand_landmarks:\n",
        "                  x = i.x\n",
        "                  y = i.y\n",
        "                  data_aux.append(x - min(x_))\n",
        "                  data_aux.append(y - min(y_))\n",
        "            data.append(data_aux)\n",
        "            labels.append(dir_)\n",
        "\n",
        "f = open('data.pickle', 'wb')\n",
        "pickle.dump({'data': data, 'labels': labels}, f)\n",
        "f.close()"
      ]
    },
    {
      "cell_type": "code",
      "execution_count": null,
      "metadata": {
        "colab": {
          "base_uri": "https://localhost:8080/"
        },
        "id": "7fFiJtDgBOah",
        "outputId": "8cdd5d9c-f541-4f9e-bfaf-88107ea0f5ec"
      },
      "outputs": [],
      "source": [
        "import pickle\n",
        "from sklearn.ensemble import RandomForestClassifier\n",
        "from sklearn.model_selection import train_test_split\n",
        "from sklearn.metrics import accuracy_score\n",
        "import numpy as np\n",
        "\n",
        "with open('./data.pickle', 'rb') as file:\n",
        "    data_dict = pickle.load(file)\n",
        "\n",
        "data = data_dict['data']\n",
        "labels = np.asarray(data_dict['labels'])\n",
        "\n",
        "max_length = max(len(seq) for seq in data)\n",
        "data = np.array([seq + [0] * (max_length - len(seq)) for seq in data])\n",
        "\n",
        "x_train, x_test, y_train, y_test = train_test_split(data, labels, test_size=0.2, shuffle=True, stratify=labels)\n",
        "\n",
        "\n",
        "model = RandomForestClassifier(n_estimators=100, max_depth=10, random_state=42)\n",
        "model.fit(x_train, y_train)\n",
        "\n",
        "y_predict = model.predict(x_test)\n",
        "\n",
        "score = accuracy_score(y_predict, y_test)\n",
        "print('{}% of samples were classified correctly%'.format(score * 100))\n",
        "\n",
        "with open('model.p', 'wb') as f:\n",
        "    pickle.dump({'model': model}, f)"
      ]
    },
    {
      "cell_type": "markdown",
      "metadata": {
        "id": "vdF3QfXhv3jS"
      },
      "source": [
        "# **Kaggle Stuff for Getting data**\n",
        "Don't Forget to run any of the below commands and check the versions of all the libraries\n"
      ]
    },
    {
      "cell_type": "code",
      "execution_count": null,
      "metadata": {
        "id": "SE6_sPCXaX3g"
      },
      "outputs": [],
      "source": [
        "%pip install -q kaggle"
      ]
    },
    {
      "cell_type": "code",
      "execution_count": null,
      "metadata": {
        "id": "xjqJ5fxJXZRm"
      },
      "outputs": [],
      "source": [
        "%mkdir ~/.kaggle\n",
        "\n",
        "%cp kaggle.json ~/.kaggle/"
      ]
    },
    {
      "cell_type": "code",
      "execution_count": null,
      "metadata": {
        "id": "_T6GzMVeXj5V"
      },
      "outputs": [],
      "source": [
        "%chmod 600 ~/.kaggle/kaggle.json"
      ]
    },
    {
      "cell_type": "code",
      "execution_count": null,
      "metadata": {
        "id": "eng6BvjpX0K-"
      },
      "outputs": [],
      "source": [
        "%kaggle datasets list"
      ]
    },
    {
      "cell_type": "code",
      "execution_count": null,
      "metadata": {
        "id": "z4juM6OnkURi"
      },
      "outputs": [],
      "source": [
        "%kaggle datasets download -d kartik2112/indian-sign-language-translation-letters-n-digits"
      ]
    },
    {
      "cell_type": "code",
      "execution_count": null,
      "metadata": {
        "id": "_M919Nm6p07n"
      },
      "outputs": [],
      "source": [
        "%kaggle datasets download -d danrasband/asl-alphabet-test"
      ]
    },
    {
      "cell_type": "code",
      "execution_count": null,
      "metadata": {
        "id": "ZxodgSaXfO4O"
      },
      "outputs": [],
      "source": [
        "%kaggle datasets download -d grassknoted/asl-alphabet"
      ]
    },
    {
      "cell_type": "code",
      "execution_count": null,
      "metadata": {
        "id": "oAci_wxaX_6o"
      },
      "outputs": [],
      "source": [
        "%kaggle datasets download -d prathumarikeri/american-sign-language-09az"
      ]
    },
    {
      "cell_type": "code",
      "execution_count": null,
      "metadata": {
        "id": "h6NZR1ta--1Q"
      },
      "outputs": [],
      "source": [
        "%kaggle datasets download -d kartik2112/indian-sign-language-translation-letters-n-digits"
      ]
    },
    {
      "cell_type": "code",
      "execution_count": 36,
      "metadata": {
        "colab": {
          "base_uri": "https://localhost:8080/"
        },
        "id": "jB_heIuAQNAC",
        "outputId": "a76df31e-e314-49a0-ada5-240dda386802"
      },
      "outputs": [
        {
          "name": "stdout",
          "output_type": "stream",
          "text": [
            "Downloading american-sign-language-digit-dataset.zip to /content\n",
            "100% 288M/288M [00:05<00:00, 49.3MB/s]\n",
            "100% 288M/288M [00:05<00:00, 57.4MB/s]\n"
          ]
        }
      ],
      "source": [
        "%kaggle datasets download -d rayeed045/american-sign-language-digit-dataset"
      ]
    },
    {
      "cell_type": "code",
      "execution_count": 36,
      "metadata": {
        "id": "og-5H9gqYLHt"
      },
      "outputs": [],
      "source": [
        "%mkdir train/H"
      ]
    },
    {
      "cell_type": "code",
      "execution_count": null,
      "metadata": {
        "id": "2EkgAUiRYPYP"
      },
      "outputs": [],
      "source": [
        "%unzip american-sign-language-digit-dataset.zip -d train3"
      ]
    },
    {
      "cell_type": "code",
      "execution_count": 35,
      "metadata": {
        "id": "ykxyd1YSgcJy"
      },
      "outputs": [],
      "source": [
        "%rm -r /content/train/H"
      ]
    },
    {
      "cell_type": "code",
      "execution_count": 1,
      "metadata": {
        "colab": {
          "base_uri": "https://localhost:8080/"
        },
        "id": "xyXRvwqnQv-T",
        "outputId": "c8e892a8-3e7c-4012-8c1c-8a422bd4db95"
      },
      "outputs": [
        {
          "name": "stdout",
          "output_type": "stream",
          "text": [
            "The scikit-learn version is 1.3.2.\n"
          ]
        }
      ],
      "source": [
        "import sklearn\n",
        "print('The scikit-learn version is {}.'.format(sklearn.__version__))"
      ]
    },
    {
      "cell_type": "code",
      "execution_count": 39,
      "metadata": {
        "colab": {
          "base_uri": "https://localhost:8080/"
        },
        "id": "H0rcOveiWEuA",
        "outputId": "c064287a-5e78-45d5-acb2-505d082394d0"
      },
      "outputs": [
        {
          "name": "stdout",
          "output_type": "stream",
          "text": [
            "4.0\n"
          ]
        }
      ],
      "source": [
        "import pickle\n",
        "print(pickle.format_version)"
      ]
    },
    {
      "cell_type": "code",
      "execution_count": null,
      "metadata": {
        "colab": {
          "base_uri": "https://localhost:8080/",
          "height": 408
        },
        "id": "f991WOnqRFcq",
        "outputId": "60249813-05c9-41a4-b57a-e1347eb68433"
      },
      "outputs": [],
      "source": [
        "%pip uninstall scikit-learn\n",
        "%pip install scikit-learn==1.3.2"
      ]
    }
  ],
  "metadata": {
    "colab": {
      "collapsed_sections": [
        "h2q27gKz1H20",
        "83PEJNp9yPBU",
        "QcP_opDcorfo"
      ],
      "provenance": []
    },
    "kernelspec": {
      "display_name": "Python 3 (ipykernel)",
      "language": "python",
      "name": "python3"
    },
    "language_info": {
      "codemirror_mode": {
        "name": "ipython",
        "version": 3
      },
      "file_extension": ".py",
      "mimetype": "text/x-python",
      "name": "python",
      "nbconvert_exporter": "python",
      "pygments_lexer": "ipython3",
      "version": "3.8.10"
    }
  },
  "nbformat": 4,
  "nbformat_minor": 0
}
